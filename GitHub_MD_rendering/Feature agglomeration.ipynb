{
 "cells": [
  {
   "cell_type": "markdown",
   "metadata": {},
   "source": [
    "# Introduction"
   ]
  },
  {
   "cell_type": "code",
   "execution_count": null,
   "metadata": {},
   "outputs": [],
   "source": [
    "\"\"\"\n",
    "What? Feature agglomeration\n",
    "\n",
    "This code shows how similar features are merged together using feature agglomeration.\n",
    "\n",
    "Reference: https://scikit-learn.org/stable/auto_examples/cluster/plot_digits_agglomeration.html#sphx-glr-auto-examples-cluster-plot-digits-agglomeration-py\n",
    "           https://scikit-learn.org/stable/modules/generated/sklearn.cluster.FeatureAgglomeration.html#sklearn.cluster.FeatureAgglomeration \n",
    "\"\"\""
   ]
  },
  {
   "cell_type": "markdown",
   "metadata": {},
   "source": [
    "# Import modules"
   ]
  },
  {
   "cell_type": "code",
   "execution_count": 7,
   "metadata": {},
   "outputs": [],
   "source": [
    "import numpy as np\n",
    "from matplotlib import rcParams\n",
    "import matplotlib.pyplot as plt\n",
    "from sklearn import datasets, cluster\n",
    "from sklearn.feature_extraction.image import grid_to_graph"
   ]
  },
  {
   "cell_type": "markdown",
   "metadata": {},
   "source": [
    "# Load dataset"
   ]
  },
  {
   "cell_type": "code",
   "execution_count": 3,
   "metadata": {},
   "outputs": [],
   "source": [
    "digits = datasets.load_digits()\n",
    "images = digits.images\n",
    "X = np.reshape(images, (len(images), -1))\n",
    "connectivity = grid_to_graph(*images[0].shape)"
   ]
  },
  {
   "cell_type": "code",
   "execution_count": 13,
   "metadata": {},
   "outputs": [
    {
     "name": "stdout",
     "output_type": "stream",
     "text": [
      "Original shape (1797, 64)\n",
      "Reduced shape (1797, 32)\n"
     ]
    }
   ],
   "source": [
    "agglo = cluster.FeatureAgglomeration(connectivity=connectivity,\n",
    "                                    n_clusters=32)\n",
    "agglo.fit(X)\n",
    "print(\"Original shape\", X.shape)\n",
    "X_reduced = agglo.transform(X)\n",
    "print(\"Reduced shape\", X_reduced.shape)\n",
    "\n",
    "X_restored = agglo.inverse_transform(X_reduced)\n",
    "images_restored = np.reshape(X_restored, images.shape)"
   ]
  },
  {
   "cell_type": "code",
   "execution_count": 9,
   "metadata": {},
   "outputs": [
    {
     "data": {
      "image/png": "[encoded data removed]",
      "text/plain": [
       "<Figure size 288x252 with 8 Axes>"
      ]
     },
     "metadata": {},
     "output_type": "display_data"
    }
   ],
   "source": [
    "rcParams['font.size'] = 20\n",
    "rcParams['figure.figsize'] = 17, 6\n",
    "plt.figure(1, figsize=(4, 3.5))\n",
    "plt.clf()\n",
    "plt.subplots_adjust(left=.01, right=.99, bottom=.01, top=.91)\n",
    "for i in range(4):\n",
    "    plt.subplot(3, 4, i + 1)\n",
    "    plt.imshow(images[i], cmap=plt.cm.gray, vmax=16, interpolation='nearest')\n",
    "    plt.xticks(())\n",
    "    plt.yticks(())\n",
    "    if i == 1:\n",
    "        plt.title('Original data')\n",
    "    plt.subplot(3, 4, 4 + i + 1)\n",
    "    plt.imshow(images_restored[i], cmap=plt.cm.gray, vmax=16,\n",
    "               interpolation='nearest')\n",
    "    if i == 1:\n",
    "        plt.title('Agglomerated data')\n",
    "    plt.xticks(())\n",
    "    plt.yticks(())"
   ]
  },
  {
   "cell_type": "code",
   "execution_count": 10,
   "metadata": {},
   "outputs": [
    {
     "data": {
      "image/png": "[encoded data removed]",
      "text/plain": [
       "<Figure size 1224x432 with 1 Axes>"
      ]
     },
     "metadata": {},
     "output_type": "display_data"
    }
   ],
   "source": [
    "rcParams['font.size'] = 20\n",
    "rcParams['figure.figsize'] = 17, 6\n",
    "plt.subplot(3, 4, 10)\n",
    "plt.imshow(np.reshape(agglo.labels_, images[0].shape),\n",
    "           interpolation='nearest', cmap=plt.cm.nipy_spectral)\n",
    "plt.xticks(())\n",
    "plt.yticks(())\n",
    "plt.title('Labels')\n",
    "plt.show()"
   ]
  },
  {
   "cell_type": "code",
   "execution_count": null,
   "metadata": {},
   "outputs": [],
   "source": []
  }
 ],
 "metadata": {
  "kernelspec": {
   "display_name": "trainingAI",
   "language": "python",
   "name": "trainingai"
  },
  "language_info": {
   "codemirror_mode": {
    "name": "ipython",
    "version": 3
   },
   "file_extension": ".py",
   "mimetype": "text/x-python",
   "name": "python",
   "nbconvert_exporter": "python",
   "pygments_lexer": "ipython3",
   "version": "3.8.5"
  }
 },
 "nbformat": 4,
 "nbformat_minor": 5
}
